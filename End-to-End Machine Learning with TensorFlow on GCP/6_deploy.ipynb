{
 "cells": [
  {
   "cell_type": "markdown",
   "metadata": {},
   "source": [
    "<h1> Deploying and predicting with model </h1>\n",
    "\n",
    "This notebook illustrates:\n",
    "<ol>\n",
    "<li> Deploying model\n",
    "<li> Predicting with model\n",
    "</ol>"
   ]
  },
  {
   "cell_type": "code",
   "execution_count": 2,
   "metadata": {},
   "outputs": [],
   "source": [
    "# change these to try this notebook out\n",
    "BUCKET = 'qwiklabs-gcp-543fbafd773d1e53'\n",
    "PROJECT = 'qwiklabs-gcp-543fbafd773d1e53'\n",
    "REGION = 'us-east1'"
   ]
  },
  {
   "cell_type": "code",
   "execution_count": 3,
   "metadata": {},
   "outputs": [
    {
     "name": "stderr",
     "output_type": "stream",
     "text": [
      "/usr/local/envs/py3env/lib/python3.5/site-packages/h5py/__init__.py:36: FutureWarning: Conversion of the second argument of issubdtype from `float` to `np.floating` is deprecated. In future, it will be treated as `np.float64 == np.dtype(float).type`.\n",
      "  from ._conv import register_converters as _register_converters\n"
     ]
    },
    {
     "name": "stdout",
     "output_type": "stream",
     "text": [
      "1.8.0\n"
     ]
    }
   ],
   "source": [
    "import tensorflow as tf\n",
    "print(tf.__version__)"
   ]
  },
  {
   "cell_type": "code",
   "execution_count": 5,
   "metadata": {},
   "outputs": [],
   "source": [
    "import os\n",
    "os.environ['BUCKET'] = BUCKET\n",
    "os.environ['PROJECT'] = PROJECT\n",
    "os.environ['REGION'] = REGION\n",
    "os.environ['TFVERSION'] = '1.8'"
   ]
  },
  {
   "cell_type": "code",
   "execution_count": 6,
   "metadata": {},
   "outputs": [
    {
     "name": "stderr",
     "output_type": "stream",
     "text": [
      "Creating gs://qwiklabs-gcp-543fbafd773d1e53/...\n",
      "ServiceException: 409 Bucket qwiklabs-gcp-543fbafd773d1e53 already exists.\n",
      "Copying gs://cloud-training-demos/babyweight/trained_model/checkpoint...\n",
      "/ [0 files][    0.0 B/  187.0 B]                                                \r",
      "Copying gs://cloud-training-demos/babyweight/trained_model/eval/events.out.tfevents.1529348264.cmle-training-master-a137ac0fff-0-9q8r4...\n",
      "/ [0 files][    0.0 B/539.6 KiB]                                                \r",
      "Copying gs://cloud-training-demos/babyweight/trained_model/events.out.tfevents.1529347276.cmle-training-master-a137ac0fff-0-9q8r4...\n",
      "/ [0 files][    0.0 B/  2.2 MiB]                                                \r",
      "Copying gs://cloud-training-demos/babyweight/trained_model/export/exporter/1529348266/saved_model.pb...\n",
      "/ [0 files][    0.0 B/  2.4 MiB]                                                \r",
      "Copying gs://cloud-training-demos/babyweight/trained_model/export/exporter/1529348266/variables/variables.data-00000-of-00001...\n",
      "/ [0 files][    0.0 B/  2.7 MiB]                                                \r",
      "Copying gs://cloud-training-demos/babyweight/trained_model/export/exporter/1529348266/variables/variables.index...\n",
      "Copying gs://cloud-training-demos/babyweight/trained_model/export/exporter/1529348864/saved_model.pb...\n",
      "/ [1/58 files][254.3 KiB/ 12.1 MiB]   2% Done                                   \r",
      "/ [2/58 files][793.7 KiB/ 12.1 MiB]   6% Done                                   \r",
      "/ [2/58 files][793.7 KiB/ 12.1 MiB]   6% Done                                   \r",
      "/ [2/58 files][793.7 KiB/ 12.1 MiB]   6% Done                                   \r",
      "/ [3/58 files][793.9 KiB/ 12.1 MiB]   6% Done                                   \r",
      "Copying gs://cloud-training-demos/babyweight/trained_model/export/exporter/1529348864/variables/variables.data-00000-of-00001...\n",
      "/ [3/58 files][793.9 KiB/ 12.1 MiB]   6% Done                                   \r",
      "Copying gs://cloud-training-demos/babyweight/trained_model/export/exporter/1529348864/variables/variables.index...\n",
      "/ [4/58 files][ 1015 KiB/ 12.1 MiB]   8% Done                                   \r",
      "/ [4/58 files][ 1015 KiB/ 12.1 MiB]   8% Done                                   \r",
      "Copying gs://cloud-training-demos/babyweight/trained_model/export/exporter/1529349460/saved_model.pb...\n",
      "Copying gs://cloud-training-demos/babyweight/trained_model/export/exporter/1529349460/variables/variables.data-00000-of-00001...\n",
      "-\r",
      "- [5/58 files][  2.9 MiB/ 12.1 MiB]  23% Done                                   \r",
      "- [6/58 files][  2.9 MiB/ 12.1 MiB]  23% Done                                   \r",
      "- [6/58 files][  2.9 MiB/ 12.1 MiB]  23% Done                                   \r",
      "- [6/58 files][  2.9 MiB/ 12.1 MiB]  23% Done                                   \r",
      "- [7/58 files][  3.1 MiB/ 12.1 MiB]  26% Done                                   \r",
      "Copying gs://cloud-training-demos/babyweight/trained_model/export/exporter/1529349460/variables/variables.index...\n",
      "- [7/58 files][  3.1 MiB/ 12.1 MiB]  26% Done                                   \r",
      "Copying gs://cloud-training-demos/babyweight/trained_model/export/exporter/1529350065/saved_model.pb...\n",
      "Copying gs://cloud-training-demos/babyweight/trained_model/export/exporter/1529350065/variables/variables.data-00000-of-00001...\n",
      "- [8/58 files][  3.1 MiB/ 12.1 MiB]  26% Done                                   \r",
      "- [9/58 files][  3.1 MiB/ 12.1 MiB]  26% Done                                   \r",
      "- [9/58 files][  3.1 MiB/ 12.1 MiB]  26% Done                                   \r",
      "- [9/58 files][  3.1 MiB/ 12.1 MiB]  26% Done                                   \r",
      "- [10/58 files][  3.4 MiB/ 12.1 MiB]  27% Done                                  \r",
      "Copying gs://cloud-training-demos/babyweight/trained_model/export/exporter/1529350065/variables/variables.index...\n",
      "- [10/58 files][  3.4 MiB/ 12.1 MiB]  27% Done                                  \r",
      "Copying gs://cloud-training-demos/babyweight/trained_model/export/exporter/1529350672/saved_model.pb...\n",
      "- [11/58 files][  3.6 MiB/ 12.1 MiB]  29% Done                                  \r",
      "- [11/58 files][  3.6 MiB/ 12.1 MiB]  29% Done                                  \r",
      "- [12/58 files][  3.6 MiB/ 12.1 MiB]  29% Done                                  \r",
      "Copying gs://cloud-training-demos/babyweight/trained_model/export/exporter/1529350672/variables/variables.data-00000-of-00001...\n",
      "- [12/58 files][  3.6 MiB/ 12.1 MiB]  29% Done                                  \r",
      "- [13/58 files][  3.9 MiB/ 12.1 MiB]  31% Done                                  \r",
      "Copying gs://cloud-training-demos/babyweight/trained_model/export/exporter/1529350672/variables/variables.index...\n",
      "- [13/58 files][  3.9 MiB/ 12.1 MiB]  31% Done                                  \r",
      "Copying gs://cloud-training-demos/babyweight/trained_model/export/exporter/1529351274/saved_model.pb...\n",
      "- [14/58 files][  3.9 MiB/ 12.1 MiB]  31% Done                                  \r",
      "- [14/58 files][  3.9 MiB/ 12.1 MiB]  31% Done                                  \r",
      "- [15/58 files][  4.1 MiB/ 12.1 MiB]  33% Done                                  \r",
      "Copying gs://cloud-training-demos/babyweight/trained_model/export/exporter/1529351274/variables/variables.data-00000-of-00001...\n",
      "- [15/58 files][  4.1 MiB/ 12.1 MiB]  33% Done                                  \r",
      "Copying gs://cloud-training-demos/babyweight/trained_model/export/exporter/1529351274/variables/variables.index...\n",
      "- [16/58 files][  4.3 MiB/ 12.1 MiB]  35% Done                                  \r",
      "- [16/58 files][  4.3 MiB/ 12.1 MiB]  35% Done                                  \r",
      "Copying gs://cloud-training-demos/babyweight/trained_model/export/exporter/1529351873/saved_model.pb...\n",
      "Copying gs://cloud-training-demos/babyweight/trained_model/export/exporter/1529351873/variables/variables.data-00000-of-00001...\n",
      "\\\r",
      "\\ [17/58 files][  4.5 MiB/ 12.1 MiB]  37% Done                                  \r",
      "\\ [17/58 files][  4.5 MiB/ 12.1 MiB]  37% Done                                  \r",
      "\\ [18/58 files][  4.5 MiB/ 12.1 MiB]  37% Done                                  \r",
      "\\ [18/58 files][  4.5 MiB/ 12.1 MiB]  37% Done                                  \r",
      "Copying gs://cloud-training-demos/babyweight/trained_model/export/exporter/1529351873/variables/variables.index...\n",
      "\\ [19/58 files][  4.8 MiB/ 12.1 MiB]  39% Done                                  \r",
      "\\ [19/58 files][  4.8 MiB/ 12.1 MiB]  39% Done                                  \r",
      "\\ [20/58 files][  4.8 MiB/ 12.1 MiB]  39% Done                                  \r",
      "Copying gs://cloud-training-demos/babyweight/trained_model/export/exporter/1529352472/saved_model.pb...\n",
      "\\ [20/58 files][  4.8 MiB/ 12.1 MiB]  39% Done                                  \r",
      "\\ [21/58 files][  5.0 MiB/ 12.1 MiB]  41% Done                                  \r",
      "Copying gs://cloud-training-demos/babyweight/trained_model/export/exporter/1529352472/variables/variables.data-00000-of-00001...\n",
      "\\ [21/58 files][  5.0 MiB/ 12.1 MiB]  41% Done                                  \r",
      "Copying gs://cloud-training-demos/babyweight/trained_model/export/exporter/1529352472/variables/variables.index...\n",
      "\\ [22/58 files][  5.0 MiB/ 12.1 MiB]  41% Done                                  \r",
      "\\ [22/58 files][  5.0 MiB/ 12.1 MiB]  41% Done                                  \r",
      "Copying gs://cloud-training-demos/babyweight/trained_model/export/exporter/1529353074/saved_model.pb...\n",
      "\\ [23/58 files][  5.3 MiB/ 12.1 MiB]  43% Done                                  \r",
      "\\ [23/58 files][  5.3 MiB/ 12.1 MiB]  43% Done                                  \r",
      "\\ [24/58 files][  5.5 MiB/ 12.1 MiB]  45% Done                                  \r",
      "Copying gs://cloud-training-demos/babyweight/trained_model/export/exporter/1529353074/variables/variables.data-00000-of-00001...\n",
      "\\ [24/58 files][  5.5 MiB/ 12.1 MiB]  45% Done                                  \r",
      "Copying gs://cloud-training-demos/babyweight/trained_model/export/exporter/1529353074/variables/variables.index...\n",
      "\\ [25/58 files][  5.7 MiB/ 12.1 MiB]  47% Done                                  \r",
      "\\ [25/58 files][  5.7 MiB/ 12.1 MiB]  47% Done                                  \r",
      "Copying gs://cloud-training-demos/babyweight/trained_model/export/exporter/1529353677/saved_model.pb...\n",
      "Copying gs://cloud-training-demos/babyweight/trained_model/export/exporter/1529353677/variables/variables.data-00000-of-00001...\n",
      "\\ [26/58 files][  6.2 MiB/ 12.1 MiB]  50% Done                                  \r",
      "\\ [27/58 files][  6.2 MiB/ 12.1 MiB]  50% Done                                  \r",
      "\\ [27/58 files][  6.2 MiB/ 12.1 MiB]  50% Done                                  \r",
      "\\ [27/58 files][  6.2 MiB/ 12.1 MiB]  50% Done                                  \r",
      "Copying gs://cloud-training-demos/babyweight/trained_model/export/exporter/1529353677/variables/variables.index...\n",
      "|\r",
      "| [28/58 files][  6.4 MiB/ 12.1 MiB]  53% Done                                  \r",
      "| [28/58 files][  6.4 MiB/ 12.1 MiB]  53% Done                                  \r",
      "Copying gs://cloud-training-demos/babyweight/trained_model/export/exporter/1529354267/saved_model.pb...\n",
      "| [29/58 files][  6.4 MiB/ 12.1 MiB]  53% Done                                  \r",
      "| [29/58 files][  6.4 MiB/ 12.1 MiB]  53% Done                                  \r",
      "Copying gs://cloud-training-demos/babyweight/trained_model/export/exporter/1529354267/variables/variables.data-00000-of-00001...\n",
      "| [30/58 files][  6.6 MiB/ 12.1 MiB]  55% Done                                  \r",
      "| [30/58 files][  6.6 MiB/ 12.1 MiB]  55% Done                                  \r",
      "| [31/58 files][  6.9 MiB/ 12.1 MiB]  56% Done                                  \r",
      "Copying gs://cloud-training-demos/babyweight/trained_model/export/exporter/1529354267/variables/variables.index...\n",
      "| [31/58 files][  6.9 MiB/ 12.1 MiB]  56% Done                                  \r",
      "| [32/58 files][  7.1 MiB/ 12.1 MiB]  58% Done                                  \r",
      "Copying gs://cloud-training-demos/babyweight/trained_model/export/exporter/1529354862/saved_model.pb...\n",
      "| [32/58 files][  7.1 MiB/ 12.1 MiB]  58% Done                                  \r",
      "| [33/58 files][  7.3 MiB/ 12.1 MiB]  60% Done                                  \r",
      "| [34/58 files][  7.3 MiB/ 12.1 MiB]  60% Done                                  \r",
      "Copying gs://cloud-training-demos/babyweight/trained_model/export/exporter/1529354862/variables/variables.index...\n",
      "Copying gs://cloud-training-demos/babyweight/trained_model/export/exporter/1529354862/variables/variables.data-00000-of-00001...\n",
      "| [34/58 files][  7.3 MiB/ 12.1 MiB]  60% Done                                  \r",
      "| [34/58 files][  7.3 MiB/ 12.1 MiB]  60% Done                                  \r",
      "Copying gs://cloud-training-demos/babyweight/trained_model/export/exporter/1529355466/saved_model.pb...\n",
      "| [35/58 files][  7.3 MiB/ 12.1 MiB]  60% Done                                  \r",
      "| [35/58 files][  7.3 MiB/ 12.1 MiB]  60% Done                                  \r",
      "Copying gs://cloud-training-demos/babyweight/trained_model/export/exporter/1529355466/variables/variables.data-00000-of-00001...\n",
      "Copying gs://cloud-training-demos/babyweight/trained_model/export/exporter/1529355466/variables/variables.index...\n",
      "Copying gs://cloud-training-demos/babyweight/trained_model/graph.pbtxt...\n",
      "| [36/58 files][  7.5 MiB/ 12.1 MiB]  62% Done                                  \r",
      "| [37/58 files][  7.5 MiB/ 12.1 MiB]  62% Done                                  \r",
      "| [37/58 files][  7.5 MiB/ 12.1 MiB]  62% Done                                  \r",
      "| [38/58 files][  7.8 MiB/ 12.1 MiB]  64% Done                                  \r",
      "| [38/58 files][  7.8 MiB/ 12.1 MiB]  64% Done                                  \r",
      "| [38/58 files][  7.8 MiB/ 12.1 MiB]  64% Done                                  \r",
      "Copying gs://cloud-training-demos/babyweight/trained_model/model.ckpt-342784.data-00000-of-00003...\n",
      "/\r",
      "/ [39/58 files][  8.0 MiB/ 12.1 MiB]  66% Done                                  \r",
      "/ [39/58 files][  8.0 MiB/ 12.1 MiB]  66% Done                                  \r",
      "Copying gs://cloud-training-demos/babyweight/trained_model/model.ckpt-342784.data-00001-of-00003...\n",
      "/ [40/58 files][  8.9 MiB/ 12.1 MiB]  74% Done                                  \r",
      "/ [40/58 files][  8.9 MiB/ 12.1 MiB]  74% Done                                  \r",
      "Copying gs://cloud-training-demos/babyweight/trained_model/model.ckpt-342784.data-00002-of-00003...\n",
      "/ [41/58 files][  8.9 MiB/ 12.1 MiB]  74% Done                                  \r",
      "/ [41/58 files][  8.9 MiB/ 12.1 MiB]  74% Done                                  \r",
      "Copying gs://cloud-training-demos/babyweight/trained_model/model.ckpt-342784.index...\n",
      "/ [42/58 files][  9.2 MiB/ 12.1 MiB]  76% Done                                  \r",
      "/ [42/58 files][  9.2 MiB/ 12.1 MiB]  76% Done                                  \r",
      "/ [43/58 files][  9.2 MiB/ 12.1 MiB]  76% Done                                  \r",
      "Copying gs://cloud-training-demos/babyweight/trained_model/model.ckpt-342784.meta...\n",
      "/ [43/58 files][  9.2 MiB/ 12.1 MiB]  76% Done                                  \r",
      "/ [44/58 files][  9.2 MiB/ 12.1 MiB]  76% Done                                  \r",
      "Copying gs://cloud-training-demos/babyweight/trained_model/model.ckpt-376661.data-00000-of-00003...\n",
      "/ [44/58 files][  9.2 MiB/ 12.1 MiB]  76% Done                                  \r",
      "Copying gs://cloud-training-demos/babyweight/trained_model/model.ckpt-376661.data-00001-of-00003...\n",
      "/ [45/58 files][  9.2 MiB/ 12.1 MiB]  76% Done                                  \r",
      "/ [45/58 files][  9.2 MiB/ 12.1 MiB]  76% Done                                  \r",
      "/ [46/58 files][  9.2 MiB/ 12.1 MiB]  76% Done                                  \r",
      "Copying gs://cloud-training-demos/babyweight/trained_model/model.ckpt-376661.data-00002-of-00003...\n",
      "/ [46/58 files][  9.2 MiB/ 12.1 MiB]  76% Done                                  \r",
      "Copying gs://cloud-training-demos/babyweight/trained_model/model.ckpt-376661.index...\n",
      "/ [47/58 files][  9.7 MiB/ 12.1 MiB]  80% Done                                  \r",
      "/ [47/58 files][  9.7 MiB/ 12.1 MiB]  80% Done                                  \r",
      "/ [48/58 files][  9.7 MiB/ 12.1 MiB]  80% Done                                  \r",
      "Copying gs://cloud-training-demos/babyweight/trained_model/model.ckpt-376661.meta...\n",
      "/ [48/58 files][  9.7 MiB/ 12.1 MiB]  80% Done                                  \r",
      "Copying gs://cloud-training-demos/babyweight/trained_model/model.ckpt-390628.data-00000-of-00003...\n",
      "-\r",
      "- [49/58 files][ 10.1 MiB/ 12.1 MiB]  84% Done                                  \r",
      "- [49/58 files][ 10.1 MiB/ 12.1 MiB]  84% Done                                  \r",
      "Copying gs://cloud-training-demos/babyweight/trained_model/model.ckpt-390628.data-00001-of-00003...\n",
      "- [50/58 files][ 10.2 MiB/ 12.1 MiB]  84% Done                                  \r",
      "- [50/58 files][ 10.2 MiB/ 12.1 MiB]  84% Done                                  \r",
      "Copying gs://cloud-training-demos/babyweight/trained_model/model.ckpt-390628.data-00002-of-00003...\n",
      "- [51/58 files][ 10.6 MiB/ 12.1 MiB]  87% Done                                  \r",
      "- [51/58 files][ 10.6 MiB/ 12.1 MiB]  87% Done                                  \r",
      "- [52/58 files][ 10.6 MiB/ 12.1 MiB]  87% Done                                  \r",
      "Copying gs://cloud-training-demos/babyweight/trained_model/model.ckpt-390628.index...\n",
      "- [52/58 files][ 10.6 MiB/ 12.1 MiB]  87% Done                                  \r",
      "Copying gs://cloud-training-demos/babyweight/trained_model/model.ckpt-390628.meta...\n",
      "- [53/58 files][ 10.6 MiB/ 12.1 MiB]  88% Done                                  \r",
      "- [53/58 files][ 10.6 MiB/ 12.1 MiB]  88% Done                                  \r",
      "- [54/58 files][ 11.1 MiB/ 12.1 MiB]  92% Done                                  \r",
      "- [55/58 files][ 11.1 MiB/ 12.1 MiB]  92% Done                                  \r",
      "- [56/58 files][ 11.1 MiB/ 12.1 MiB]  92% Done                                  \r",
      "\\\r",
      "\\ [57/58 files][ 11.6 MiB/ 12.1 MiB]  95% Done                                  \r",
      "\\ [58/58 files][ 12.1 MiB/ 12.1 MiB] 100% Done                                  \r\n",
      "Operation completed over 58 objects/12.1 MiB.                                    \n"
     ]
    }
   ],
   "source": [
    "%%bash\n",
    "if ! gsutil ls | grep -q gs://${BUCKET}/babyweight/trained_model; then\n",
    "  gsutil mb -l ${REGION} gs://${BUCKET}\n",
    "  # copy canonical model if you didn't do previous notebook\n",
    "  gsutil -m cp -R gs://cloud-training-demos/babyweight/trained_model gs://${BUCKET}/babyweight/trained_model\n",
    "fi"
   ]
  },
  {
   "cell_type": "markdown",
   "metadata": {},
   "source": [
    "<h2> Deploy trained model </h2>\n",
    "<p>\n",
    "Deploying the trained model to act as a REST web service is a simple gcloud call."
   ]
  },
  {
   "cell_type": "code",
   "execution_count": 7,
   "metadata": {},
   "outputs": [
    {
     "name": "stdout",
     "output_type": "stream",
     "text": [
      "gs://qwiklabs-gcp-543fbafd773d1e53/babyweight/trained_model/export/exporter/1529348266/\n",
      "gs://qwiklabs-gcp-543fbafd773d1e53/babyweight/trained_model/export/exporter/1529348864/\n",
      "gs://qwiklabs-gcp-543fbafd773d1e53/babyweight/trained_model/export/exporter/1529349460/\n",
      "gs://qwiklabs-gcp-543fbafd773d1e53/babyweight/trained_model/export/exporter/1529350065/\n",
      "gs://qwiklabs-gcp-543fbafd773d1e53/babyweight/trained_model/export/exporter/1529350672/\n",
      "gs://qwiklabs-gcp-543fbafd773d1e53/babyweight/trained_model/export/exporter/1529351274/\n",
      "gs://qwiklabs-gcp-543fbafd773d1e53/babyweight/trained_model/export/exporter/1529351873/\n",
      "gs://qwiklabs-gcp-543fbafd773d1e53/babyweight/trained_model/export/exporter/1529352472/\n",
      "gs://qwiklabs-gcp-543fbafd773d1e53/babyweight/trained_model/export/exporter/1529353074/\n",
      "gs://qwiklabs-gcp-543fbafd773d1e53/babyweight/trained_model/export/exporter/1529353677/\n",
      "gs://qwiklabs-gcp-543fbafd773d1e53/babyweight/trained_model/export/exporter/1529354267/\n",
      "gs://qwiklabs-gcp-543fbafd773d1e53/babyweight/trained_model/export/exporter/1529354862/\n",
      "gs://qwiklabs-gcp-543fbafd773d1e53/babyweight/trained_model/export/exporter/1529355466/\n"
     ]
    }
   ],
   "source": [
    "%bash\n",
    "gsutil ls gs://${BUCKET}/babyweight/trained_model/export/exporter/"
   ]
  },
  {
   "cell_type": "code",
   "execution_count": 8,
   "metadata": {},
   "outputs": [
    {
     "name": "stdout",
     "output_type": "stream",
     "text": [
      "Deleting and deploying babyweight ml_on_gcp from gs://qwiklabs-gcp-543fbafd773d1e53/babyweight/trained_model/export/exporter/1529355466/ ... this will take a few minutes\n"
     ]
    },
    {
     "name": "stderr",
     "output_type": "stream",
     "text": [
      "Created ml engine model [projects/qwiklabs-gcp-543fbafd773d1e53/models/babyweight].\n",
      "Creating version (this might take a few minutes)......\n",
      "....................................................................................................................................................................................................................................................................................................................................................................done.\n"
     ]
    }
   ],
   "source": [
    "%bash\n",
    "MODEL_NAME=\"babyweight\"\n",
    "MODEL_VERSION=\"ml_on_gcp\"\n",
    "MODEL_LOCATION=$(gsutil ls gs://${BUCKET}/babyweight/trained_model/export/exporter/ | tail -1)\n",
    "echo \"Deleting and deploying $MODEL_NAME $MODEL_VERSION from $MODEL_LOCATION ... this will take a few minutes\"\n",
    "#gcloud ml-engine versions delete ${MODEL_VERSION} --model ${MODEL_NAME}\n",
    "#gcloud ml-engine models delete ${MODEL_NAME}\n",
    "gcloud ml-engine models create ${MODEL_NAME} --regions $REGION\n",
    "gcloud ml-engine versions create ${MODEL_VERSION} --model ${MODEL_NAME} --origin ${MODEL_LOCATION} --runtime-version $TFVERSION"
   ]
  },
  {
   "cell_type": "markdown",
   "metadata": {},
   "source": [
    "<h2> Use model to predict (online prediction) </h2>\n",
    "<p>\n",
    "Send a JSON request to the endpoint of the service to make it predict a baby's weight. The order of the responses are the order of the instances."
   ]
  },
  {
   "cell_type": "code",
   "execution_count": 9,
   "metadata": {},
   "outputs": [
    {
     "name": "stdout",
     "output_type": "stream",
     "text": [
      "b'{\"predictions\": [{\"predictions\": [7.740230083465576], \"key\": [\"b1\"]}, {\"predictions\": [7.247548580169678], \"key\": [\"g1\"]}, {\"predictions\": [6.182091236114502], \"key\": [\"b2\"]}, {\"predictions\": [6.13692569732666], \"key\": [\"u1\"]}]}'\n"
     ]
    }
   ],
   "source": [
    "from oauth2client.client import GoogleCredentials\n",
    "import requests\n",
    "import json\n",
    "\n",
    "MODEL_NAME = 'babyweight'\n",
    "MODEL_VERSION = 'ml_on_gcp'\n",
    "\n",
    "token = GoogleCredentials.get_application_default().get_access_token().access_token\n",
    "api = 'https://ml.googleapis.com/v1/projects/{}/models/{}/versions/{}:predict' \\\n",
    "         .format(PROJECT, MODEL_NAME, MODEL_VERSION)\n",
    "headers = {'Authorization': 'Bearer ' + token }\n",
    "data = {\n",
    "  'instances': [\n",
    "    {\n",
    "      'key': 'b1',\n",
    "      'is_male': 'True',\n",
    "      'mother_age': 26.0,\n",
    "      'plurality': 'Single(1)',\n",
    "      'gestation_weeks': 39\n",
    "    },\n",
    "    {\n",
    "      'key': 'g1',\n",
    "      'is_male': 'False',\n",
    "      'mother_age': 29.0,\n",
    "      'plurality': 'Single(1)',\n",
    "      'gestation_weeks': 38\n",
    "    },\n",
    "    {\n",
    "      'key': 'b2',\n",
    "      'is_male': 'True',\n",
    "      'mother_age': 26.0,\n",
    "      'plurality': 'Triplets(3)',\n",
    "      'gestation_weeks': 39\n",
    "    },\n",
    "    {\n",
    "      'key': 'u1',\n",
    "      'is_male': 'Unknown',\n",
    "      'mother_age': 29.0,\n",
    "      'plurality': 'Multiple(2+)',\n",
    "      'gestation_weeks': 38\n",
    "    },\n",
    "  ]\n",
    "}\n",
    "response = requests.post(api, json=data, headers=headers)\n",
    "print(response.content)"
   ]
  },
  {
   "cell_type": "markdown",
   "metadata": {},
   "source": [
    "The predictions for the four instances were: 7.66, 7.22, 6.32 and 6.19 pounds respectively when I ran it (your results might be different)."
   ]
  },
  {
   "cell_type": "markdown",
   "metadata": {},
   "source": [
    "<h2> Use model to predict (batch prediction) </h2>\n",
    "<p>\n",
    "Batch prediction is commonly used when you thousands to millions of predictions.\n",
    "Create a file withe one instance per line and submit using gcloud."
   ]
  },
  {
   "cell_type": "code",
   "execution_count": 10,
   "metadata": {},
   "outputs": [
    {
     "name": "stdout",
     "output_type": "stream",
     "text": [
      "Writing inputs.json\n"
     ]
    }
   ],
   "source": [
    "%writefile inputs.json\n",
    "{\"key\": \"b1\", \"is_male\": \"True\", \"mother_age\": 26.0, \"plurality\": \"Single(1)\", \"gestation_weeks\": 39}\n",
    "{\"key\": \"g1\", \"is_male\": \"False\", \"mother_age\": 26.0, \"plurality\": \"Single(1)\", \"gestation_weeks\": 39}"
   ]
  },
  {
   "cell_type": "code",
   "execution_count": 11,
   "metadata": {},
   "outputs": [
    {
     "name": "stdout",
     "output_type": "stream",
     "text": [
      "jobId: babypred_190320_181746\n",
      "state: QUEUED\n"
     ]
    },
    {
     "name": "stderr",
     "output_type": "stream",
     "text": [
      "Copying file://inputs.json [Content-Type=application/json]...\n",
      "/ [0 files][    0.0 B/  204.0 B]                                                \r",
      "/ [1 files][  204.0 B/  204.0 B]                                                \r\n",
      "Operation completed over 1 objects/204.0 B.                                      \n",
      "CommandException: 1 files/objects could not be removed.\n",
      "Job [babypred_190320_181746] submitted successfully.\n",
      "Your job is still active. You may view the status of your job with the command\n",
      "\n",
      "  $ gcloud ml-engine jobs describe babypred_190320_181746\n",
      "\n",
      "or continue streaming the logs with the command\n",
      "\n",
      "  $ gcloud ml-engine jobs stream-logs babypred_190320_181746\n"
     ]
    }
   ],
   "source": [
    "%bash\n",
    "INPUT=gs://${BUCKET}/babyweight/batchpred/inputs.json\n",
    "OUTPUT=gs://${BUCKET}/babyweight/batchpred/outputs\n",
    "gsutil cp inputs.json $INPUT\n",
    "gsutil -m rm -rf $OUTPUT \n",
    "gcloud ml-engine jobs submit prediction babypred_$(date -u +%y%m%d_%H%M%S) \\\n",
    "  --data-format=TEXT --region ${REGION} \\\n",
    "  --input-paths=$INPUT \\\n",
    "  --output-path=$OUTPUT \\\n",
    "  --model=babyweight --version=ml_on_gcp"
   ]
  },
  {
   "cell_type": "markdown",
   "metadata": {},
   "source": [
    "Copyright 2017 Google Inc. Licensed under the Apache License, Version 2.0 (the \"License\"); you may not use this file except in compliance with the License. You may obtain a copy of the License at http://www.apache.org/licenses/LICENSE-2.0 Unless required by applicable law or agreed to in writing, software distributed under the License is distributed on an \"AS IS\" BASIS, WITHOUT WARRANTIES OR CONDITIONS OF ANY KIND, either express or implied. See the License for the specific language governing permissions and limitations under the License"
   ]
  }
 ],
 "metadata": {
  "kernelspec": {
   "display_name": "Python 3",
   "language": "python",
   "name": "python3"
  },
  "language_info": {
   "codemirror_mode": {
    "name": "ipython",
    "version": 3
   },
   "file_extension": ".py",
   "mimetype": "text/x-python",
   "name": "python",
   "nbconvert_exporter": "python",
   "pygments_lexer": "ipython3",
   "version": "3.5.6"
  }
 },
 "nbformat": 4,
 "nbformat_minor": 2
}
