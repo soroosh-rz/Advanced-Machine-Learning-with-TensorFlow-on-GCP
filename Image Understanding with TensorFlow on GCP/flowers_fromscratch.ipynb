{
 "cells": [
  {
   "cell_type": "markdown",
   "metadata": {},
   "source": [
    "# Flowers Image Classification with TensorFlow on Cloud ML Engine\n",
    "\n",
    "This notebook demonstrates how to do image classification from scratch on a flowers dataset using the Estimator API."
   ]
  },
  {
   "cell_type": "code",
   "execution_count": 1,
   "metadata": {},
   "outputs": [],
   "source": [
    "import os\n",
    "PROJECT = 'qwiklabs-gcp-2999906eb213f38d' # REPLACE WITH YOUR PROJECT ID\n",
    "BUCKET = 'qwiklabs-gcp-2999906eb213f38d' # REPLACE WITH YOUR BUCKET NAME\n",
    "REGION = 'us-east1' # REPLACE WITH YOUR BUCKET REGION e.g. us-central1\n",
    "MODEL_TYPE = 'cnn'\n",
    "\n",
    "# do not change these\n",
    "os.environ['PROJECT'] = PROJECT\n",
    "os.environ['BUCKET'] = BUCKET\n",
    "os.environ['REGION'] = REGION\n",
    "os.environ['MODEL_TYPE'] = MODEL_TYPE\n",
    "os.environ['TFVERSION'] = '1.8'  # Tensorflow version"
   ]
  },
  {
   "cell_type": "code",
   "execution_count": 2,
   "metadata": {},
   "outputs": [
    {
     "name": "stderr",
     "output_type": "stream",
     "text": [
      "Updated property [core/project].\n",
      "Updated property [compute/region].\n"
     ]
    }
   ],
   "source": [
    "%%bash\n",
    "gcloud config set project $PROJECT\n",
    "gcloud config set compute/region $REGION"
   ]
  },
  {
   "cell_type": "markdown",
   "metadata": {},
   "source": [
    "## Input functions to read JPEG images\n",
    "\n",
    "The key difference between this notebook and [the MNIST one](./mnist_models.ipynb) is in the input function.\n",
    "In the input function here, we are doing the following:\n",
    "* Reading JPEG images, rather than 2D integer arrays.\n",
    "* Reading in batches of batch_size images rather than slicing our in-memory structure to be batch_size images.\n",
    "* Resizing the images to the expected HEIGHT, WIDTH. Because this is a real-world dataset, the images are of different sizes. We need to preprocess the data to, at the very least, resize them to constant size."
   ]
  },
  {
   "cell_type": "markdown",
   "metadata": {},
   "source": [
    "## Run as a Python module\n",
    "\n",
    "Let's first run it locally for a short while to test the code works. Note the --model parameter"
   ]
  },
  {
   "cell_type": "code",
   "execution_count": 3,
   "metadata": {},
   "outputs": [
    {
     "name": "stderr",
     "output_type": "stream",
     "text": [
      "/usr/local/envs/py3env/lib/python3.5/site-packages/h5py/__init__.py:36: FutureWarning: Conversion of the second argument of issubdtype from `float` to `np.floating` is deprecated. In future, it will be treated as `np.float64 == np.dtype(float).type`.\n",
      "  from ._conv import register_converters as _register_converters\n",
      "INFO:tensorflow:TF_CONFIG environment variable: {'task': {}, 'cluster': {}, 'environment': 'cloud', 'job': {'job_name': 'flowersmodel.task', 'args': ['--output_dir=/content/datalab/training-data-analyst/courses/machine_learning/deepdive/08_image/flowers_trained', '--train_steps=5', '--learning_rate=0.01', '--batch_size=2', '--model=cnn', '--augment', '--train_data_path=gs://cloud-ml-data/img/flower_photos/train_set.csv', '--eval_data_path=gs://cloud-ml-data/img/flower_photos/eval_set.csv']}}\n",
      "INFO:tensorflow:Using config: {'_master': '', '_global_id_in_cluster': 0, '_evaluation_master': '', '_num_ps_replicas': 0, '_model_dir': '/content/datalab/training-data-analyst/courses/machine_learning/deepdive/08_image/flowers_trained/', '_keep_checkpoint_max': 5, '_task_type': 'worker', '_keep_checkpoint_every_n_hours': 10000, '_session_config': None, '_save_checkpoints_secs': 300, '_save_summary_steps': 100, '_cluster_spec': <tensorflow.python.training.server_lib.ClusterSpec object at 0x7ff22fd09c50>, '_task_id': 0, '_save_checkpoints_steps': None, '_service': None, '_num_worker_replicas': 1, '_tf_random_seed': None, '_log_step_count_steps': 100, '_train_distribute': None, '_is_chief': True}\n",
      "INFO:tensorflow:Running training and evaluation locally (non-distributed).\n",
      "INFO:tensorflow:Start train and evaluate loop. The evaluate will happen after 300 secs (eval_spec.throttle_secs) or training is finished.\n",
      "INFO:tensorflow:Calling model_fn.\n",
      "INFO:tensorflow:Done calling model_fn.\n",
      "INFO:tensorflow:Create CheckpointSaverHook.\n",
      "INFO:tensorflow:Graph was finalized.\n",
      "2019-03-27 20:12:45.750772: I tensorflow/core/platform/cpu_feature_guard.cc:140] Your CPU supports instructions that this TensorFlow binary was not compiled to use: AVX2 FMA\n",
      "2019-03-27 20:12:45.874091: W tensorflow/core/framework/allocator.cc:101] Allocation of 131424000 exceeds 10% of system memory.\n",
      "2019-03-27 20:12:46.054865: W tensorflow/core/framework/allocator.cc:101] Allocation of 131424000 exceeds 10% of system memory.\n",
      "2019-03-27 20:12:46.296482: W tensorflow/core/framework/allocator.cc:101] Allocation of 131424000 exceeds 10% of system memory.\n",
      "2019-03-27 20:12:46.409623: W tensorflow/core/framework/allocator.cc:101] Allocation of 131424000 exceeds 10% of system memory.\n",
      "2019-03-27 20:12:46.612169: W tensorflow/core/framework/allocator.cc:101] Allocation of 131424000 exceeds 10% of system memory.\n",
      "2019-03-27 20:12:46.743832: W tensorflow/core/framework/allocator.cc:101] Allocation of 131424000 exceeds 10% of system memory.\n",
      "2019-03-27 20:12:47.135959: W tensorflow/core/framework/allocator.cc:101] Allocation of 131424000 exceeds 10% of system memory.\n",
      "2019-03-27 20:12:47.280194: W tensorflow/core/framework/allocator.cc:101] Allocation of 131424000 exceeds 10% of system memory.\n",
      "2019-03-27 20:12:47.383922: W tensorflow/core/framework/allocator.cc:101] Allocation of 131424000 exceeds 10% of system memory.\n",
      "INFO:tensorflow:Running local_init_op.\n",
      "INFO:tensorflow:Done running local_init_op.\n",
      "2019-03-27 20:12:55.061188: W tensorflow/core/framework/allocator.cc:101] Allocation of 131424000 exceeds 10% of system memory.\n",
      "2019-03-27 20:12:55.299177: W tensorflow/core/framework/allocator.cc:101] Allocation of 22201000 exceeds 10% of system memory.\n",
      "2019-03-27 20:12:55.390800: W tensorflow/core/framework/allocator.cc:101] Allocation of 44402000 exceeds 10% of system memory.\n",
      "2019-03-27 20:12:55.550068: W tensorflow/core/framework/allocator.cc:101] Allocation of 53640600 exceeds 10% of system memory.\n",
      "INFO:tensorflow:Saving checkpoints for 1 into /content/datalab/training-data-analyst/courses/machine_learning/deepdive/08_image/flowers_trained/model.ckpt.\n",
      "INFO:tensorflow:step = 1, loss = 1.949925\n",
      "2019-03-27 20:12:57.775615: W tensorflow/core/framework/allocator.cc:101] Allocation of 131424000 exceeds 10% of system memory.\n",
      "2019-03-27 20:12:58.028747: W tensorflow/core/framework/allocator.cc:101] Allocation of 22201000 exceeds 10% of system memory.\n",
      "2019-03-27 20:12:58.104695: W tensorflow/core/framework/allocator.cc:101] Allocation of 44402000 exceeds 10% of system memory.\n",
      "2019-03-27 20:12:58.245740: W tensorflow/core/framework/allocator.cc:101] Allocation of 53640600 exceeds 10% of system memory.\n",
      "2019-03-27 20:12:59.391861: W tensorflow/core/framework/allocator.cc:101] Allocation of 131424000 exceeds 10% of system memory.\n",
      "2019-03-27 20:12:59.619107: W tensorflow/core/framework/allocator.cc:101] Allocation of 22201000 exceeds 10% of system memory.\n",
      "2019-03-27 20:12:59.672920: W tensorflow/core/framework/allocator.cc:101] Allocation of 44402000 exceeds 10% of system memory.\n",
      "2019-03-27 20:12:59.781818: W tensorflow/core/framework/allocator.cc:101] Allocation of 53640600 exceeds 10% of system memory.\n",
      "2019-03-27 20:13:00.725749: W tensorflow/core/framework/allocator.cc:101] Allocation of 131424000 exceeds 10% of system memory.\n",
      "2019-03-27 20:13:00.977683: W tensorflow/core/framework/allocator.cc:101] Allocation of 22201000 exceeds 10% of system memory.\n",
      "2019-03-27 20:13:01.038538: W tensorflow/core/framework/allocator.cc:101] Allocation of 44402000 exceeds 10% of system memory.\n",
      "2019-03-27 20:13:01.155798: W tensorflow/core/framework/allocator.cc:101] Allocation of 53640600 exceeds 10% of system memory.\n",
      "2019-03-27 20:13:02.217167: W tensorflow/core/framework/allocator.cc:101] Allocation of 131424000 exceeds 10% of system memory.\n",
      "2019-03-27 20:13:02.482450: W tensorflow/core/framework/allocator.cc:101] Allocation of 22201000 exceeds 10% of system memory.\n",
      "2019-03-27 20:13:02.546063: W tensorflow/core/framework/allocator.cc:101] Allocation of 44402000 exceeds 10% of system memory.\n",
      "2019-03-27 20:13:02.662821: W tensorflow/core/framework/allocator.cc:101] Allocation of 53640600 exceeds 10% of system memory.\n",
      "INFO:tensorflow:Saving checkpoints for 5 into /content/datalab/training-data-analyst/courses/machine_learning/deepdive/08_image/flowers_trained/model.ckpt.\n",
      "INFO:tensorflow:Loss for final step: 27.24272.\n",
      "INFO:tensorflow:Calling model_fn.\n",
      "INFO:tensorflow:Done calling model_fn.\n",
      "INFO:tensorflow:Starting evaluation at 2019-03-27-20:13:07\n",
      "INFO:tensorflow:Graph was finalized.\n",
      "INFO:tensorflow:Restoring parameters from /content/datalab/training-data-analyst/courses/machine_learning/deepdive/08_image/flowers_trained/model.ckpt-5\n",
      "2019-03-27 20:13:07.994988: W tensorflow/core/framework/allocator.cc:101] Allocation of 131424000 exceeds 10% of system memory.\n",
      "2019-03-27 20:13:08.112152: W tensorflow/core/framework/allocator.cc:101] Allocation of 131424000 exceeds 10% of system memory.\n",
      "INFO:tensorflow:Running local_init_op.\n",
      "INFO:tensorflow:Done running local_init_op.\n",
      "INFO:tensorflow:Finished evaluation at 2019-03-27-20:15:35\n",
      "INFO:tensorflow:Saving dict for global step 5: accuracy = 0.21891892, global_step = 5, loss = 2.6891422\n",
      "INFO:tensorflow:Calling model_fn.\n",
      "INFO:tensorflow:Done calling model_fn.\n",
      "INFO:tensorflow:Signatures INCLUDED in export for Classify: None\n",
      "INFO:tensorflow:Signatures INCLUDED in export for Regress: None\n",
      "INFO:tensorflow:Signatures INCLUDED in export for Predict: ['classes', 'serving_default']\n",
      "INFO:tensorflow:Restoring parameters from /content/datalab/training-data-analyst/courses/machine_learning/deepdive/08_image/flowers_trained/model.ckpt-5\n",
      "2019-03-27 20:15:35.434924: W tensorflow/core/framework/allocator.cc:101] Allocation of 131424000 exceeds 10% of system memory.\n",
      "2019-03-27 20:15:35.592798: W tensorflow/core/framework/allocator.cc:101] Allocation of 131424000 exceeds 10% of system memory.\n",
      "INFO:tensorflow:Assets added to graph.\n",
      "INFO:tensorflow:No assets to write.\n",
      "INFO:tensorflow:SavedModel written to: b\"/content/datalab/training-data-analyst/courses/machine_learning/deepdive/08_image/flowers_trained/export/exporter/temp-b'1553717735'/saved_model.pb\"\n"
     ]
    }
   ],
   "source": [
    "%%bash\n",
    "rm -rf flowersmodel.tar.gz flowers_trained\n",
    "gcloud ml-engine local train \\\n",
    "   --module-name=flowersmodel.task \\\n",
    "   --package-path=${PWD}/flowersmodel \\\n",
    "   -- \\\n",
    "   --output_dir=${PWD}/flowers_trained \\\n",
    "   --train_steps=5 \\\n",
    "   --learning_rate=0.01 \\\n",
    "   --batch_size=2 \\\n",
    "   --model=$MODEL_TYPE \\\n",
    "   --augment \\\n",
    "   --train_data_path=gs://cloud-ml-data/img/flower_photos/train_set.csv \\\n",
    "   --eval_data_path=gs://cloud-ml-data/img/flower_photos/eval_set.csv"
   ]
  },
  {
   "cell_type": "markdown",
   "metadata": {},
   "source": [
    "Now, let's do it on ML Engine. Note the --model parameter"
   ]
  },
  {
   "cell_type": "code",
   "execution_count": 4,
   "metadata": {},
   "outputs": [
    {
     "name": "stdout",
     "output_type": "stream",
     "text": [
      "gs://qwiklabs-gcp-2999906eb213f38d/flowers/trained_cnn us-east1 flowers_cnn_190327_201556\n",
      "jobId: flowers_cnn_190327_201556\n",
      "state: QUEUED\n"
     ]
    },
    {
     "name": "stderr",
     "output_type": "stream",
     "text": [
      "CommandException: 1 files/objects could not be removed.\n",
      "Job [flowers_cnn_190327_201556] submitted successfully.\n",
      "Your job is still active. You may view the status of your job with the command\n",
      "\n",
      "  $ gcloud ml-engine jobs describe flowers_cnn_190327_201556\n",
      "\n",
      "or continue streaming the logs with the command\n",
      "\n",
      "  $ gcloud ml-engine jobs stream-logs flowers_cnn_190327_201556\n"
     ]
    }
   ],
   "source": [
    "%%bash\n",
    "OUTDIR=gs://${BUCKET}/flowers/trained_${MODEL_TYPE}\n",
    "JOBNAME=flowers_${MODEL_TYPE}_$(date -u +%y%m%d_%H%M%S)\n",
    "echo $OUTDIR $REGION $JOBNAME\n",
    "gsutil -m rm -rf $OUTDIR\n",
    "gcloud ml-engine jobs submit training $JOBNAME \\\n",
    "   --region=$REGION \\\n",
    "   --module-name=flowersmodel.task \\\n",
    "   --package-path=${PWD}/flowersmodel \\\n",
    "   --job-dir=$OUTDIR \\\n",
    "   --staging-bucket=gs://$BUCKET \\\n",
    "   --scale-tier=BASIC_GPU \\\n",
    "   --runtime-version=$TFVERSION \\\n",
    "   -- \\\n",
    "   --output_dir=$OUTDIR \\\n",
    "   --train_steps=1000 \\\n",
    "   --learning_rate=0.01 \\\n",
    "   --batch_size=40 \\\n",
    "   --model=$MODEL_TYPE \\\n",
    "   --augment \\\n",
    "   --batch_norm \\\n",
    "   --train_data_path=gs://cloud-ml-data/img/flower_photos/train_set.csv \\\n",
    "   --eval_data_path=gs://cloud-ml-data/img/flower_photos/eval_set.csv"
   ]
  },
  {
   "cell_type": "markdown",
   "metadata": {},
   "source": [
    "## Monitoring training with TensorBoard\n",
    "\n",
    "Use this cell to launch tensorboard"
   ]
  },
  {
   "cell_type": "code",
   "execution_count": 10,
   "metadata": {},
   "outputs": [
    {
     "data": {
      "text/html": [
       "<p>TensorBoard was started successfully with pid 4519. Click <a href=\"/_proxy/58901/\" target=\"_blank\">here</a> to access it.</p>"
      ]
     },
     "metadata": {},
     "output_type": "display_data"
    },
    {
     "data": {
      "text/plain": [
       "4519"
      ]
     },
     "execution_count": 10,
     "metadata": {},
     "output_type": "execute_result"
    }
   ],
   "source": [
    "from google.datalab.ml import TensorBoard\n",
    "TensorBoard().start('gs://{}/flowers/trained_{}'.format(BUCKET, MODEL_TYPE))"
   ]
  },
  {
   "cell_type": "code",
   "execution_count": 11,
   "metadata": {},
   "outputs": [
    {
     "name": "stdout",
     "output_type": "stream",
     "text": [
      "Stopped TensorBoard with pid 4519\n"
     ]
    }
   ],
   "source": [
    "for pid in TensorBoard.list()['pid']:\n",
    "  TensorBoard().stop(pid)\n",
    "  print('Stopped TensorBoard with pid {}'.format(pid))"
   ]
  },
  {
   "cell_type": "markdown",
   "metadata": {},
   "source": [
    "Here are my results:\n",
    "\n",
    "Model | Accuracy | Time taken | Run time parameters\n",
    "--- | :---: | ---\n",
    "cnn with batch-norm | 0.582 | 47 min | 1000 steps, LR=0.01, Batch=40\n",
    "as above, plus augment | 0.615 | 3 hr | 5000 steps, LR=0.01, Batch=40"
   ]
  },
  {
   "cell_type": "markdown",
   "metadata": {},
   "source": [
    "## Deploying and predicting with model\n",
    "\n",
    "Deploy the model:"
   ]
  },
  {
   "cell_type": "code",
   "execution_count": 12,
   "metadata": {},
   "outputs": [
    {
     "name": "stdout",
     "output_type": "stream",
     "text": [
      "Deleting and deploying flowers cnn from gs://qwiklabs-gcp-2999906eb213f38d/flowers/trained_cnn/export/exporter/1553720520/ ... this will take a few minutes\n"
     ]
    },
    {
     "name": "stderr",
     "output_type": "stream",
     "text": [
      "Created ml engine model [projects/qwiklabs-gcp-2999906eb213f38d/models/flowers].\n",
      "Creating version (this might take a few minutes)......\n",
      ".........................................................................................................................................................................................................................................................................................................................................................................................................done.\n"
     ]
    }
   ],
   "source": [
    "%%bash\n",
    "MODEL_NAME=\"flowers\"\n",
    "MODEL_VERSION=${MODEL_TYPE}\n",
    "MODEL_LOCATION=$(gsutil ls gs://${BUCKET}/flowers/trained_${MODEL_TYPE}/export/exporter | tail -1)\n",
    "echo \"Deleting and deploying $MODEL_NAME $MODEL_VERSION from $MODEL_LOCATION ... this will take a few minutes\"\n",
    "#gcloud ml-engine versions delete --quiet ${MODEL_VERSION} --model ${MODEL_NAME}\n",
    "#gcloud ml-engine models delete ${MODEL_NAME}\n",
    "gcloud ml-engine models create ${MODEL_NAME} --regions $REGION\n",
    "gcloud ml-engine versions create ${MODEL_VERSION} --model ${MODEL_NAME} --origin ${MODEL_LOCATION} --runtime-version=$TFVERSION"
   ]
  },
  {
   "cell_type": "markdown",
   "metadata": {},
   "source": [
    "To predict with the model, let's take one of the example images that is available on Google Cloud Storage <img src=\"http://storage.googleapis.com/cloud-ml-data/img/flower_photos/sunflowers/1022552002_2b93faf9e7_n.jpg\" />"
   ]
  },
  {
   "cell_type": "markdown",
   "metadata": {},
   "source": [
    "The online prediction service expects images to be base64 encoded as described [here](https://cloud.google.com/ml-engine/docs/tensorflow/online-predict#binary_data_in_prediction_input)."
   ]
  },
  {
   "cell_type": "code",
   "execution_count": 13,
   "metadata": {},
   "outputs": [
    {
     "name": "stderr",
     "output_type": "stream",
     "text": [
      "Copying gs://cloud-ml-data/img/flower_photos/sunflowers/1022552002_2b93faf9e7_n.jpg...\n",
      "/ [0 files][    0.0 B/ 41.7 KiB]                                                \r",
      "/ [1 files][ 41.7 KiB/ 41.7 KiB]                                                \r\n",
      "Operation completed over 1 objects/41.7 KiB.                                     \n"
     ]
    }
   ],
   "source": [
    "%%bash\n",
    "IMAGE_URL=gs://cloud-ml-data/img/flower_photos/sunflowers/1022552002_2b93faf9e7_n.jpg\n",
    "\n",
    "# Copy the image to local disk.\n",
    "gsutil cp $IMAGE_URL flower.jpg\n",
    "\n",
    "# Base64 encode and create request message in json format.\n",
    "python -c 'import base64, sys, json; img = base64.b64encode(open(\"flower.jpg\", \"rb\").read()).decode(); print(json.dumps({\"image_bytes\":{\"b64\": img}}))' &> request.json"
   ]
  },
  {
   "cell_type": "markdown",
   "metadata": {},
   "source": [
    "Send it to the prediction service"
   ]
  },
  {
   "cell_type": "code",
   "execution_count": 14,
   "metadata": {},
   "outputs": [
    {
     "name": "stdout",
     "output_type": "stream",
     "text": [
      "CLASS       CLASSID  PROBABILITIES\n",
      "sunflowers  3        [0.014881721697747707, 0.01729731075465679, 0.01878792606294155, 0.9386411905288696, 0.010391896590590477]\n"
     ]
    }
   ],
   "source": [
    "%%bash\n",
    "gcloud ml-engine predict \\\n",
    "  --model=flowers \\\n",
    "  --version=${MODEL_TYPE} \\\n",
    "  --json-instances=./request.json"
   ]
  },
  {
   "cell_type": "markdown",
   "metadata": {},
   "source": [
    "<pre>\n",
    "# Copyright 2017 Google Inc. All Rights Reserved.\n",
    "#\n",
    "# Licensed under the Apache License, Version 2.0 (the \"License\");\n",
    "# you may not use this file except in compliance with the License.\n",
    "# You may obtain a copy of the License at\n",
    "#\n",
    "#      http://www.apache.org/licenses/LICENSE-2.0\n",
    "#\n",
    "# Unless required by applicable law or agreed to in writing, software\n",
    "# distributed under the License is distributed on an \"AS IS\" BASIS,\n",
    "# WITHOUT WARRANTIES OR CONDITIONS OF ANY KIND, either express or implied.\n",
    "# See the License for the specific language governing permissions and\n",
    "# limitations under the License.\n",
    "</pre>"
   ]
  }
 ],
 "metadata": {
  "kernelspec": {
   "display_name": "Python 3",
   "language": "python",
   "name": "python3"
  },
  "language_info": {
   "codemirror_mode": {
    "name": "ipython",
    "version": 3
   },
   "file_extension": ".py",
   "mimetype": "text/x-python",
   "name": "python",
   "nbconvert_exporter": "python",
   "pygments_lexer": "ipython3",
   "version": "3.5.6"
  }
 },
 "nbformat": 4,
 "nbformat_minor": 2
}
